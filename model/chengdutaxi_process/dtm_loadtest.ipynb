{
 "cells": [
  {
   "cell_type": "code",
   "execution_count": 1,
   "metadata": {},
   "outputs": [],
   "source": [
    "#load data from disk\n",
    "import pandas as pd\n",
    "import numpy as np\n",
    "import os, math\n",
    "from pprint import pprint  # pretty-printer\n",
    "from collections import defaultdict\n",
    "from gensim.corpora.dictionary import Dictionary\n",
    "from gensim import corpora, utils\n",
    "from gensim.models.wrappers.dtmmodel import DtmModel\n",
    "import ast\n",
    "from itertools import groupby"
   ]
  },
  {
   "cell_type": "code",
   "execution_count": 2,
   "metadata": {},
   "outputs": [],
   "source": [
    "staypoint = False\n",
    "data_filename = '20140803_sequence_full.csv'\n",
    "model_filepath = \"./model/\"\n",
    "model_filename = 'model-stay' + str(staypoint) + str(data_filename.split('.')[0])\n",
    "ldaseq = DtmModel.load(os.path.join(model_filepath, model_filename))"
   ]
  },
  {
   "cell_type": "code",
   "execution_count": 4,
   "metadata": {},
   "outputs": [
    {
     "data": {
      "text/plain": [
       "[(0.038292639564479605, '28298-28298'),\n",
       " (0.027828739477996262, '28297-28297'),\n",
       " (0.02482300535929089, '30043-30043'),\n",
       " (0.022303053123880357, '28081-28081'),\n",
       " (0.02214889820560262, '28296-28296'),\n",
       " (0.02176637276502653, '28082-28082'),\n",
       " (0.017810193478667066, '28299-28299'),\n",
       " (0.017107553471195414, '27647-27647'),\n",
       " (0.016441944063741977, '28083-28083'),\n",
       " (0.016209515958863576, '27869-27869')]"
      ]
     },
     "execution_count": 4,
     "metadata": {},
     "output_type": "execute_result"
    }
   ],
   "source": [
    "ldaseq.show_topic(topicid=0, time=0, topn=10)"
   ]
  },
  {
   "cell_type": "code",
   "execution_count": null,
   "metadata": {},
   "outputs": [],
   "source": []
  }
 ],
 "metadata": {
  "kernelspec": {
   "display_name": "Python 3",
   "language": "python",
   "name": "python3"
  },
  "language_info": {
   "codemirror_mode": {
    "name": "ipython",
    "version": 3
   },
   "file_extension": ".py",
   "mimetype": "text/x-python",
   "name": "python",
   "nbconvert_exporter": "python",
   "pygments_lexer": "ipython3",
   "version": "3.9.13 (main, Oct 13 2022, 21:23:06) [MSC v.1916 64 bit (AMD64)]"
  },
  "orig_nbformat": 4,
  "vscode": {
   "interpreter": {
    "hash": "71b2a00b800374914640998b59e55b2ea3c384b63099ac801a4d42b188cda674"
   }
  }
 },
 "nbformat": 4,
 "nbformat_minor": 2
}
